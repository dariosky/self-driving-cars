{
 "cells": [
  {
   "cell_type": "markdown",
   "metadata": {},
   "source": [
    "# Neural Networks notes for Self Driving Car\n",
    "\n",
    "## Neuron\n",
    "\n",
    "We started by a neuron, where the neuron has a list of _n_ inputs, each with it's weight, a bias and an output:\n",
    "\n",
    "$$ o = \\sum_{i=1}^n {w_i*x_i} + b $$"
   ]
  },
  {
   "cell_type": "markdown",
   "metadata": {},
   "source": [
    "## Layer\n",
    "\n",
    "Then we moved to the *Layer* concept: a Layer is a level of _k_ neurons all with the same inputs, so\n",
    "_n_ inputs and _k_ outputs\n",
    "\n",
    "Inputs nodes are modeled as a _1_ by _n_ matrix\n",
    "\n",
    "$$ X = \\left[x_{1} \\ldots x_{n} \\right] $$\n",
    "\n",
    "Weights are a matrix: a row for for every input and columns for every output.\n",
    "\n",
    "$$ W = \\left[\\begin{matrix}\n",
    "    w_{1,1} & \\ldots & w_{1,k}\\\\\n",
    "    \\vdots & \\ddots & \\vdots \\\\\n",
    "    w_{n,1} & \\ldots & w_{n,k}\\\\\n",
    "\\end{matrix}\\right]$$\n",
    "\n",
    "the biases are again a vector, with one value per output:\n",
    "\n",
    "$$ b = \\left[ b_1 \\dots b_k \\right] $$"
   ]
  },
  {
   "cell_type": "markdown",
   "metadata": {},
   "source": [
    "## Batches\n",
    "\n",
    "But normally we deal with _batches_ of inputs, to improve parallelism.\n",
    "We deal with batches of size _m_ (trying to comfortably fit in memory)\n",
    "\n",
    "So _X_ with _m_ examples of _n_ inputs is\n",
    "$$ X = \\left[\\begin{matrix}\n",
    "    x_{1,1} & \\ldots & x_{1,n} \\\\\n",
    "    \\vdots & \\ddots & \\vdots \\\\\n",
    "    x_{m,1} & \\ldots & x_{m,n}\n",
    "\\end{matrix}\\right]$$\n",
    "\n",
    "_W_ and _b_ stay the same, they are applied to all the batch.\n",
    "\n",
    "The batches-layer equation is now:\n",
    "$$ Z = XW + b $$"
   ]
  },
  {
   "cell_type": "markdown",
   "metadata": {
    "nbpresent": {
     "id": "57a94135-c8a0-41ea-b18c-76a018d3a5a3"
    }
   },
   "source": [
    "### Sigmoid\n",
    "\n",
    "Sigmoid is a function to make discontinuity derivable:\n",
    "$$\\sigma(x) = \\frac{1}{1+e^{-x}}$$"
   ]
  },
  {
   "cell_type": "code",
   "execution_count": 1,
   "metadata": {
    "collapsed": false,
    "nbpresent": {
     "id": "d9a52550-fc2a-49a1-9270-360e9da8c069"
    }
   },
   "outputs": [
    {
     "data": {
      "text/plain": [
       "<matplotlib.text.Text at 0x7f45f280f9b0>"
      ]
     },
     "execution_count": 1,
     "metadata": {},
     "output_type": "execute_result"
    },
    {
     "data": {
      "image/png": "[encoded data removed]",
      "text/plain": [
       "<matplotlib.figure.Figure at 0x7f45f793d940>"
      ]
     },
     "metadata": {},
     "output_type": "display_data"
    }
   ],
   "source": [
    "import matplotlib\n",
    "import numpy as np\n",
    "import matplotlib.pyplot as plt\n",
    "% matplotlib inline\n",
    "\n",
    "x = np.linspace(-10, 10, 500)\n",
    "plt.plot(x, 1 / (1 + np.e ** (-x)))\n",
    "plt.title('A Sigmoid function')"
   ]
  },
  {
   "cell_type": "markdown",
   "metadata": {},
   "source": [
    "# Optimizer"
   ]
  },
  {
   "cell_type": "markdown",
   "metadata": {
    "nbpresent": {
     "id": "a35d0282-7ee3-489b-aa16-349f4364e28d"
    }
   },
   "source": [
    "## MSE mean squared error\n",
    "\n",
    "$$ C(w, b) = \\frac{1}{ m } \\sum_x ( y(x) - a)^2 $$"
   ]
  },
  {
   "cell_type": "markdown",
   "metadata": {},
   "source": [
    "## Cross entropy\n",
    "\n",
    "$$D(S, L) = -\\sum{L_i log(S_i)} $$\n",
    "S= Softmax ($\\frac{e^x}{\\sum e^x}$), L=Onehot encoded labels\n"
   ]
  },
  {
   "cell_type": "code",
   "execution_count": 1,
   "metadata": {
    "collapsed": false
   },
   "outputs": [
    {
     "name": "stdout",
     "output_type": "stream",
     "text": [
      "0.356675\n"
     ]
    }
   ],
   "source": [
    "# A tensorflow example: compute cross entropy\n",
    "import tensorflow as tf\n",
    "\n",
    "softmax_data = [0.7, 0.2, 0.1]\n",
    "one_hot_data = [1.0, 0.0, 0.0]\n",
    "\n",
    "softmax = tf.placeholder(tf.float32)\n",
    "one_hot = tf.placeholder(tf.float32)\n",
    "\n",
    "cross_entropy = - tf.reduce_sum( tf.mul(one_hot, tf.log(softmax)) )\n",
    "\n",
    "with tf.Session() as sess:\n",
    "    output = sess.run(cross_entropy, feed_dict={softmax:softmax_data, one_hot:one_hot_data})\n",
    "    print (output)"
   ]
  },
  {
   "cell_type": "markdown",
   "metadata": {
    "nbpresent": {
     "id": "1ca316c9-4c0b-48a1-8450-26dd7bf9457c"
    }
   },
   "source": [
    "\n",
    "## Gradient descend\n",
    "\n",
    "Given the gradient of a function (it's derivative), we change the future $x$ generation as\n",
    "$$ x = x - gradient * learning\\_rate $$\n",
    "\n",
    "## Stochastic gradient descend (SDG)\n",
    "\n",
    "In practice, because computing the gradient is expensive (the derivative),\n",
    "we adjust the network using instead a small subset of the inputs, and calculating the gradient on them... but many more times.\n",
    "\n",
    "### Momentum and learning rate decay\n",
    "Because the approximation is usually quite bad, we can keep a running average of the direction of the approximated gradient descend, and use that to move out input (momentum).\n",
    "\n",
    "Another trick is to reduce the learning rate going on with the generations.\n",
    "\n",
    "ADAGRAD is a modification of SDG that does momentum and LRD for us"
   ]
  },
  {
   "cell_type": "markdown",
   "metadata": {},
   "source": [
    "\n",
    "# Avoid overfitting\n",
    "\n",
    "* Use larger datasets\n",
    "* Validate the data with an unused subset of your data\n",
    "* **Dropout**: randomly drop half of the signals and boost the others\n",
    "      keep_prob = tf.placeholder(tf.float32)\n",
    "      tf.nn.dropout(hidden_layer, keep_prob)\n",
    "  remember to use dropout in the training phase, not during validation\n",
    "\n",
    "## Optimization suggestions\n",
    "\n",
    "Try to keep variables with 0 mean ($X_i = 0$) and variance 1 ($X_i = X_j$)\n",
    "\n",
    "For Weights it means choose them from standard distribution (tf, a small $\\sigma$)"
   ]
  },
  {
   "cell_type": "markdown",
   "metadata": {},
   "source": [
    "# Convolutional Neural Network (CNN)\n",
    "\n",
    "It works by taking the input matrix and filter it in smaller *patches*, each moving of an amount called *strive*.\n",
    "\n",
    "Every patch is connected with the next level, a layer wide *k*"
   ]
  },
  {
   "cell_type": "markdown",
   "metadata": {},
   "source": [
    "## CCN dimensionality\n",
    "\n",
    "Given our input layer has a volume of W\n",
    "\n",
    "Our filter has a volume F = ($height * width * depth$)\n",
    "with a stride of S, and a padding of P\n",
    "\n",
    "The following formula gives us the volume of the next layer:\n",
    "$$ (W−F+2P)/S+1 $$\n",
    "(with padding='VALID', with padding='SAME', it simplify to W/S)"
   ]
  },
  {
   "cell_type": "markdown",
   "metadata": {},
   "source": [
    "### Summary\n",
    "The input is 4D:\n",
    "\n",
    "`X = [batch_size, width, height, depth]`\n",
    "\n",
    "for every level we train a 4D array \n",
    "\n",
    "`W = [filterWidth, filter_height, input_depth, output_depth]`\n",
    "\n",
    "and a bias 1D\n",
    "\n",
    "`B = [output_depth]`"
   ]
  },
  {
   "cell_type": "markdown",
   "metadata": {},
   "source": [
    "## Polling\n",
    "With this technique instead of taking all the values of a patch we take just the max (or average, depending)\n",
    "In this way we avoid overfitting (reducing the number of parameters). Recently Dropout is more used, as it's more efficient for avoiding overfitting.\n",
    "\n",
    "## 1x1 convolutions\n",
    "Put in front of the patch to create little inexpensive neural networks: more deep and with more parameters"
   ]
  }
 ],
 "metadata": {
  "anaconda-cloud": {},
  "kernelspec": {
   "display_name": "Python [conda env:drive]",
   "language": "python",
   "name": "conda-env-drive-py"
  },
  "language_info": {
   "codemirror_mode": {
    "name": "ipython",
    "version": 3.0
   },
   "file_extension": ".py",
   "mimetype": "text/x-python",
   "name": "python",
   "nbconvert_exporter": "python",
   "pygments_lexer": "ipython3",
   "version": "3.5.2"
  },
  "nbpresent": {
   "slides": {},
   "themes": {}
  }
 },
 "nbformat": 4,
 "nbformat_minor": 0
}